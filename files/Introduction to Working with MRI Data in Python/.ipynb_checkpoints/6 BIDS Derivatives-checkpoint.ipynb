{
 "cells": [
  {
   "cell_type": "code",
   "execution_count": 1,
   "id": "7e37db87-bec3-46f3-bedc-d5fd9a231659",
   "metadata": {},
   "outputs": [],
   "source": [
    "from bids.layout import BIDSLayout"
   ]
  },
  {
   "cell_type": "code",
   "execution_count": 7,
   "id": "c057506e-6fe1-4b24-bf0a-00c3b8710c4c",
   "metadata": {},
   "outputs": [
    {
     "ename": "SyntaxError",
     "evalue": "invalid syntax (3884473622.py, line 1)",
     "output_type": "error",
     "traceback": [
      "\u001b[0;36m  Cell \u001b[0;32mIn[7], line 1\u001b[0;36m\u001b[0m\n\u001b[0;31m    apptainer build mriqc-0.16.1.simg docker://poldracklab/mriqc:0.16.1\u001b[0m\n\u001b[0m              ^\u001b[0m\n\u001b[0;31mSyntaxError\u001b[0m\u001b[0;31m:\u001b[0m invalid syntax\n"
     ]
    }
   ],
   "source": [
    "apptainer build mriqc-0.16.1.simg docker://poldracklab/mriqc:0.16.1"
   ]
  },
  {
   "cell_type": "code",
   "execution_count": 8,
   "id": "bd0270c6-10b0-48c6-9bbd-b2f885b7c6da",
   "metadata": {},
   "outputs": [
    {
     "ename": "SyntaxError",
     "evalue": "invalid syntax (1214797091.py, line 1)",
     "output_type": "error",
     "traceback": [
      "\u001b[0;36m  Cell \u001b[0;32mIn[8], line 1\u001b[0;36m\u001b[0m\n\u001b[0;31m    apptainer run --cleanenv \\\u001b[0m\n\u001b[0m              ^\u001b[0m\n\u001b[0;31mSyntaxError\u001b[0m\u001b[0;31m:\u001b[0m invalid syntax\n"
     ]
    }
   ],
   "source": [
    "apptainer run --cleanenv \\\n",
    "  -B bids_folder:/data \\\n",
    "  mriqc-0.16.1.simg \\\n",
    "  /data /data/derivatives participant"
   ]
  },
  {
   "cell_type": "code",
   "execution_count": null,
   "id": "efa19f52-6311-44d4-9ed1-77c446e590c4",
   "metadata": {},
   "outputs": [],
   "source": []
  }
 ],
 "metadata": {
  "kernelspec": {
   "display_name": "Python 3 (ipykernel)",
   "language": "python",
   "name": "python3"
  },
  "language_info": {
   "codemirror_mode": {
    "name": "ipython",
    "version": 3
   },
   "file_extension": ".py",
   "mimetype": "text/x-python",
   "name": "python",
   "nbconvert_exporter": "python",
   "pygments_lexer": "ipython3",
   "version": "3.11.0"
  }
 },
 "nbformat": 4,
 "nbformat_minor": 5
}
